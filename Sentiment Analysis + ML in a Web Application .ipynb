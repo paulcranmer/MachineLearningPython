{
 "cells": [
  {
   "cell_type": "code",
   "execution_count": null,
   "metadata": {},
   "outputs": [],
   "source": [
    "# loading the data into a frame\n",
    "import pyprind \n",
    "import pandas as pd \n",
    "import os \n",
    "\n",
    "pbar = pyprind.ProgBar(50000)\n",
    "labels = {'pos':1, 'neg':0}\n",
    "df = pd.DataFrame()\n",
    "for s in ('test', 'train'):\n",
    "    for l in ('pos', 'neg'):\n",
    "        path = '/users/toul/downloads/aclImdb/%s/%s' % (s, l)\n",
    "        for file in os.listdir(path):\n",
    "            with open(os.path.join(path, file), 'r') as infile:\n",
    "                txt=infile.read()\n",
    "                df=df.append([[txt, labels[l]]], ignore_index=True)\n",
    "                pbar.update()\n",
    "\n",
    "df.columns = ['review', 'sentiment']"
   ]
  },
  {
   "cell_type": "code",
   "execution_count": null,
   "metadata": {},
   "outputs": [],
   "source": [
    "# shuffling the data frame using the permutation function and checking to see if it has been properly loaded \n",
    "import numpy as np \n",
    "np.random.seed(0)\n",
    "df = df.reindex(np.random.permutation(df.index))\n",
    "df.to_csv('./movie_data.csv', index=False)\n",
    "df.head(3)"
   ]
  },
  {
   "cell_type": "code",
   "execution_count": null,
   "metadata": {
    "collapsed": true
   },
   "outputs": [],
   "source": [
    "# creating a bag-of-words model: allows us to represent text as numerical feature vectors. \n",
    "# 1. We create a vocabulary of unique tokens--for example, words--from the entire set of documents \n",
    "# 2. We construct a feature vector from each document that contains the counts of how often each word occurs in \n",
    "# in the particular document \n",
    "# will consist of mostly zeros hence the name sparse vector \n"
   ]
  },
  {
   "cell_type": "code",
   "execution_count": null,
   "metadata": {
    "collapsed": true
   },
   "outputs": [],
   "source": [
    "# TRANSFORMING WORDS INTO FEATURE VECTORS \n",
    "# stores the data into a dictionary\n",
    "import numpy as np \n",
    "from sklearn.feature_extraction.text import CountVectorizer \n",
    "count = CountVectorizer() \n",
    "docs = np.array(['The sun is shining',\n",
    "                 'The weather is sweet',\n",
    "                 'THe sun is shining and the weather is sweet'])\n",
    "bag = count.fit_transform(docs)"
   ]
  },
  {
   "cell_type": "code",
   "execution_count": null,
   "metadata": {},
   "outputs": [],
   "source": [
    "# checking \n",
    "print(count.vocabulary_)"
   ]
  },
  {
   "cell_type": "code",
   "execution_count": null,
   "metadata": {},
   "outputs": [],
   "source": [
    "print(bag.toarray())"
   ]
  },
  {
   "cell_type": "code",
   "execution_count": null,
   "metadata": {
    "collapsed": true
   },
   "outputs": [],
   "source": [
    "# raw term frequencies : tf(t,d) - The number of times a term t occurs in a document d \n",
    "# Also, known as the 1-gram or unigram model where each item or token in the voc. represents a single word \n",
    "# n-gram : contigous sequence of items in NLP; words, letters, or symbols \n",
    "# n-gram = 4 || 3 => good for spam filtering messages \n",
    "# 1-gram: \"the\", \"sun\", \"is\", \"shining\"\n",
    "# 2-gram: \"the sun\", \"sun is\", \"is shining\" => ngram_range(2,2)\n",
    "\n"
   ]
  },
  {
   "cell_type": "code",
   "execution_count": null,
   "metadata": {},
   "outputs": [],
   "source": [
    "# ASSESSING WORD RELEVANCY VIA TERM FREQUENCY-INVERSE DOCUMENT FREQUENCY \n",
    "# term frequency-inverse document frequency; downweights frequently occurring words in the feature vectors \n",
    "# defined as the product of term frequency and inverse document frequency \n",
    "\n",
    "from sklearn.feature_extraction.text import TfidfTransformer \n",
    "tfidf = TfidfTransformer() \n",
    "np.set_printoptions(precision=2)\n",
    "print(tfidf.fit_transform(count.fit_transform(docs)).toarray())"
   ]
  },
  {
   "cell_type": "code",
   "execution_count": null,
   "metadata": {},
   "outputs": [],
   "source": [
    "# Cleaning Text Data \n",
    "# stripping all of the unwanted characters from the document\n",
    "df.loc[0, 'review'][-50:]"
   ]
  },
  {
   "cell_type": "code",
   "execution_count": null,
   "metadata": {
    "collapsed": true
   },
   "outputs": [],
   "source": [
    "import re\n",
    "def preprocessor(text):\n",
    "    text = re.sub('<[^>]*>', '', text)\n",
    "    emoticons = re.findall('(?::|;|=)(?:-)?(?:\\)|\\(|D|P)', text)\n",
    "    text = re.sub('[\\W]+', ' ', text.lower()) +\\\n",
    "        ' '.join(emoticons).replace('-', '')\n",
    "    return text"
   ]
  },
  {
   "cell_type": "code",
   "execution_count": null,
   "metadata": {},
   "outputs": [],
   "source": [
    "# in general it isn't good to use regex to parse HTML mark-up \n",
    "# checking that the preprocessor works \n",
    "\n",
    "preprocessor(df.loc[0, 'review'][-50:])"
   ]
  },
  {
   "cell_type": "code",
   "execution_count": null,
   "metadata": {
    "collapsed": true
   },
   "outputs": [],
   "source": [
    "df['review'] = df['review'].apply(preprocessor)"
   ]
  },
  {
   "cell_type": "code",
   "execution_count": null,
   "metadata": {},
   "outputs": [],
   "source": [
    "# PROCESSING DOCUMENTS INTO TOKENS \n",
    "# splitting the words apart \n",
    "# word-stemming: The process of transforming a word from its root form  aka the Porter stemmer NLTK\n",
    "def tokenizer(text):\n",
    "    return text.split()\n",
    "\n",
    "from nltk.stem.porter import PorterStemmer\n",
    "porter = PorterStemmer()\n",
    "def tokenizer_porter(text):\n",
    "    return [porter.stem(word) for word in text.split()]\n",
    "\n",
    "tokenizer_porter('runners like running and thus they run')"
   ]
  },
  {
   "cell_type": "code",
   "execution_count": null,
   "metadata": {},
   "outputs": [],
   "source": [
    "# read http://www.nltk.org/book/ is a book about the algorithm \n",
    "# other popular algorithms; Snowball stemmer and Lancaster \n",
    "\n",
    "# stop-word removal: words that are extremely common in all sorts of txts \n",
    "import nltk \n",
    "nltk.download('stopwords')\n",
    "# load and apply the english stopword\n",
    "\n",
    "from nltk.corpus import stopwords \n",
    "stop = stopwords.words('english')\n",
    "[w for w in tokenizer_porter('a runner likes running and runs a lot')[-10:] if w not in stop]\n"
   ]
  },
  {
   "cell_type": "code",
   "execution_count": null,
   "metadata": {},
   "outputs": [],
   "source": [
    "# TRAINING A LOGISTIC REGRESSION MODEL FOR DOCUMENT CLASSIFICATION \n",
    "\n",
    "#training dataset\n",
    "x_train = df.loc[:25000, 'review'].values \n",
    "y_train = df.loc[:25000, 'sentiment'].values \n",
    "# test dataset\n",
    "x_test = df.loc[25000:, 'review'].values\n",
    "y_test = df.loc[25000:,'sentiment'].values\n"
   ]
  },
  {
   "cell_type": "code",
   "execution_count": null,
   "metadata": {},
   "outputs": [],
   "source": [
    "# using GridSearchCV to find the optimal set of parameters fro the LR model uning 5-fold stratified cross-validation \n",
    "from sklearn.model_selection import GridSearchCV\n",
    "from sklearn.pipeline import Pipeline\n",
    "from sklearn.linear_model import LogisticRegression\n",
    "from sklearn.feature_extraction.text import TfidfVectorizer \n",
    "tfidf = TfidfVectorizer(strip_accents = None, lowercase=False, preprocessor=None)\n",
    "param_grid = [{'vect__ngram_range': [(1,1)], \n",
    "              'vect__stop_words': [stop, None], \n",
    "              'vect__tokenizer': [tokenizer, tokenizer_porter],\n",
    "              'clf__penalty': ['l1', 'l2'],\n",
    "              'clf__C': [1.0, 10.0, 100.0]}, \n",
    "              {'vect__ngram_range': [(1,1)],\n",
    "               'vect__stop_words': [stop, None],\n",
    "               'vect__tokenizer': [tokenizer, tokenizer_porter],\n",
    "               'vect__use_idf': [False],\n",
    "               'vect__norm': [None],\n",
    "               'clf__penalty': ['l1', 'l2'],\n",
    "               'clf__C': [1.0, 10.0, 100.0]}\n",
    "             ]\n",
    "lr_tfidf = Pipeline([('vect', tfidf), ('clf', LogisticRegression(random_state=0))])\n",
    "gs_lr_tfidf = GridSearchCV(lr_tfidf, param_grid, scoring='accuracy', cv=5, verbose=1, n_jobs=-1)\n",
    "gs_lr_tfidf.fit(x_train, y_train)"
   ]
  },
  {
   "cell_type": "code",
   "execution_count": null,
   "metadata": {},
   "outputs": [],
   "source": [
    "# printing the best parameter set\n",
    "print('Best parameter set: %s ' % gs_lr_tfidf.best_params_)"
   ]
  },
  {
   "cell_type": "code",
   "execution_count": null,
   "metadata": {},
   "outputs": [],
   "source": [
    "# the best model allows for the avg. 5-fold-cross-validation accuracy score on the training set \n",
    "# and the classification accuracy on the test dataset\n",
    "\n",
    "print('CV accuracy: %.3f' % gs_lr_tfidf.best_score_)\n"
   ]
  },
  {
   "cell_type": "code",
   "execution_count": null,
   "metadata": {},
   "outputs": [],
   "source": [
    "clf = gs_lr_tfidf.best_estimator_ \n",
    "print('Test accuracy: %.3f' % clf.score(x_test, y_test))"
   ]
  },
  {
   "cell_type": "code",
   "execution_count": null,
   "metadata": {
    "collapsed": true
   },
   "outputs": [],
   "source": [
    "# WORKING WITH BIGGER DATA--ONLINE ALGORITHMS AND OUT-OF-CORE LEARNING \n",
    "# streaming the movie data from the local drive and then training an LR model \n",
    "\n",
    "import numpy as np \n",
    "import re \n",
    "from nltk.corpus import stopwords \n",
    "stop = stopwords.words('english')\n",
    "def tokenizer(text):\n",
    "    text = re.sub('<[^>]*>', '', text)\n",
    "    emoticons = re.findall('(?::|;|=)(?:-)?(?:\\)|\\(|D|P)', text.lower())\n",
    "    text = re.sub('[\\W]+', ' ', text.lower()) + ' '.join(emoticons).replace('-', '')\n",
    "    tokenized = [w for w in text.split() if w not in stop]\n",
    "    return tokenized \n",
    "\n",
    "# generator function \n",
    "def stream_docs(path):\n",
    "    with open(path, 'r', encoding='utf-8') as csv:\n",
    "        next(csv) # skip the header\n",
    "        for line in csv:\n",
    "            text, label = line[:-3], int(line[-2])\n",
    "            yield text, label\n",
    "            \n"
   ]
  },
  {
   "cell_type": "code",
   "execution_count": null,
   "metadata": {},
   "outputs": [],
   "source": [
    "# checking stream docs function \n",
    "next(stream_docs(path='./movie_data.csv'))"
   ]
  },
  {
   "cell_type": "code",
   "execution_count": null,
   "metadata": {},
   "outputs": [],
   "source": [
    "# getting mini-batches \n",
    "def get_minibatch(doc_stream, size):\n",
    "    docs, y = [], [] \n",
    "    try:\n",
    "        for _ in range(size):\n",
    "            text, label = next(doc_stream)\n",
    "            docs.append(text)\n",
    "            y.append(label)\n",
    "    except StopIteration:\n",
    "        return None, None\n",
    "    return docs, y \n",
    "        \n",
    "# not using CountVectorizer b/c it requires holding the whole set of vocabulary in memory \n",
    "# hashing vector 32-bit MurmurHash3 \n",
    "from sklearn.feature_extraction.text import HashingVectorizer \n",
    "from sklearn.linear_model import SGDClassifier\n",
    "vect = HashingVectorizer(decode_error='ignore', n_features=2**21, preprocessor=None, tokenizer=tokenizer)\n",
    "clf = SGDClassifier(loss='log', random_state=1, n_iter=1)\n",
    "doc_stream = stream_docs(path='./movie_data.csv')"
   ]
  },
  {
   "cell_type": "code",
   "execution_count": null,
   "metadata": {},
   "outputs": [],
   "source": [
    "# now using out-of-the core (CPU?)\n",
    "# very memory efficient and fast\n",
    "import pyprind\n",
    "pbar = pyprind.ProgBar(45)\n",
    "classes = np.array([0, 1])\n",
    "for _ in range(45):\n",
    "    x_train, y_train = get_minibatch(doc_stream, size=1000)\n",
    "    if not x_train:\n",
    "        break\n",
    "    x_train = vect.transform(x_train)\n",
    "    clf.partial_fit(x_train, y_train, classes=classes)\n",
    "    pbar.update()\n",
    "    "
   ]
  },
  {
   "cell_type": "code",
   "execution_count": null,
   "metadata": {},
   "outputs": [],
   "source": [
    "x_test, y_test = get_minibatch(doc_stream, size=5000)\n",
    "x_test = vect.transform(x_test)\n",
    "print('Accuracy: %.3f' % clf.score(x_test, y_test))"
   ]
  },
  {
   "cell_type": "code",
   "execution_count": null,
   "metadata": {
    "collapsed": true
   },
   "outputs": [],
   "source": [
    "clf = clf.partial_fit(x_test, y_test)"
   ]
  },
  {
   "cell_type": "code",
   "execution_count": null,
   "metadata": {
    "collapsed": true
   },
   "outputs": [],
   "source": [
    "# common extension of the bag-of-words model is the Latent Dirichlet Allocation \n",
    "# another one is the word2vec by google \n",
    "\n"
   ]
  },
  {
   "cell_type": "code",
   "execution_count": null,
   "metadata": {
    "collapsed": true
   },
   "outputs": [],
   "source": [
    "# EMBEDDING A MACHINE LEARING MODEL INTO A WEB APPLICATION \n",
    "# used for spam detection in submission forms, search engines, recommendation systems for media or shopping portals\n",
    "# and many more\n"
   ]
  },
  {
   "cell_type": "code",
   "execution_count": null,
   "metadata": {
    "collapsed": true
   },
   "outputs": [],
   "source": [
    "# SERIALIZING FITTED SCIKIT-LEARN ESTIMATORS \n",
    "# Model persistence => pickle library\n",
    "\n",
    "import pickle \n",
    "import os \n",
    "dest = os.path.join('movieclassifier', 'pkl_objects')\n",
    "if not os.path.exists(dest):\n",
    "    os.makedirs(dest)\n",
    "pickle.dump(stop, open(os.path.join(dest, 'stopwords.pkl'), 'wb'), protocol=4)\n",
    "pickle.dump(clf, open(os.path.join(dest, 'classifier.pkl'), 'wb'), protocol=4)\n",
    "\n",
    "# created a movie directory\n",
    "# pkl_objects => subdirectory to save serialized Python to the local drive.\n",
    "# can sue the joblib library as well \n"
   ]
  },
  {
   "cell_type": "code",
   "execution_count": null,
   "metadata": {},
   "outputs": [],
   "source": [
    "import pickle\n",
    "import re\n",
    "import os \n",
    "from vectorizer import vect \n",
    "clf = pickle.load(open(os.path.join('pkl_objects', 'classifier.pkl'), 'rb'))"
   ]
  },
  {
   "cell_type": "code",
   "execution_count": null,
   "metadata": {
    "collapsed": true
   },
   "outputs": [],
   "source": []
  }
 ],
 "metadata": {
  "kernelspec": {
   "display_name": "Python 3",
   "language": "python",
   "name": "python3"
  },
  "language_info": {
   "codemirror_mode": {
    "name": "ipython",
    "version": 3
   },
   "file_extension": ".py",
   "mimetype": "text/x-python",
   "name": "python",
   "nbconvert_exporter": "python",
   "pygments_lexer": "ipython3",
   "version": "3.6.1"
  }
 },
 "nbformat": 4,
 "nbformat_minor": 2
}
